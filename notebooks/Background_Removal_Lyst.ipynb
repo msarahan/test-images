{
 "cells": [
  {
   "cell_type": "code",
   "execution_count": null,
   "metadata": {
    "collapsed": false
   },
   "outputs": [],
   "source": [
    "%matplotlib inline\n",
    "\n",
    "%pylab inline\n",
    "pylab.rcParams['figure.figsize'] = (12,10)\n",
    "\n",
    "import os\n",
    "import cv2\n",
    "import matplotlib.pyplot as plt\n",
    "import numpy as np\n",
    "\n",
    "#data_path = '/Users/ryoungblood/opencv_tests/data/'\n",
    "data_path = '/Users/ryoungblood/image_similarity/original_images/'"
   ]
  },
  {
   "cell_type": "code",
   "execution_count": null,
   "metadata": {
    "collapsed": false
   },
   "outputs": [],
   "source": [
    "boot = cv2.imread(os.path.join(data_path,'15.jpg'))\n",
    "plt.imshow(cv2.cvtColor(boot,cv2.COLOR_BGR2RGB))"
   ]
  },
  {
   "cell_type": "code",
   "execution_count": null,
   "metadata": {
    "collapsed": false
   },
   "outputs": [],
   "source": [
    "#cv2.imwrite(os.path.join(data_path,'boot2.png'),boot)"
   ]
  },
  {
   "cell_type": "code",
   "execution_count": null,
   "metadata": {
    "collapsed": false
   },
   "outputs": [],
   "source": [
    "boot_gray = cv2.cvtColor(boot, cv2.COLOR_BGR2GRAY)\n",
    "plt.imshow(boot_gray, cmap='gray')"
   ]
  },
  {
   "cell_type": "code",
   "execution_count": null,
   "metadata": {
    "collapsed": false
   },
   "outputs": [],
   "source": [
    "boot_negate = 255 - boot_gray\n",
    "plt.imshow(boot_negate, cmap='gray')"
   ]
  },
  {
   "cell_type": "code",
   "execution_count": null,
   "metadata": {
    "collapsed": false
   },
   "outputs": [],
   "source": [
    "# Get the horizontal Sobel\n",
    "boot_sobel_h_64f = cv2.Sobel(boot_negate,cv2.CV_64F,1,0,ksize=3)\n",
    "boot_sobel_h_64f_abs = np.absolute(boot_sobel_h_64f)\n",
    "boot_sobel_h_8u = np.uint8(boot_sobel_h_64f_abs)\n",
    "\n",
    "# Get the vertical Sobel\n",
    "boot_sobel_v_64f = cv2.Sobel(boot_negate,cv2.CV_64F,0,1,ksize=3)\n",
    "boot_sobel_v_64f_abs = np.absolute(boot_sobel_v_64f)\n",
    "boot_sobel_v_8u = np.uint8(boot_sobel_v_64f_abs)\n",
    "\n",
    "# Bitwise OR those two\n",
    "boot_sobel = cv2.bitwise_or(boot_sobel_h_8u,boot_sobel_v_8u)\n",
    "print(boot_sobel[:10,:10])\n",
    "\n",
    "plt.imshow(boot_sobel, cmap='gray')"
   ]
  },
  {
   "cell_type": "code",
   "execution_count": null,
   "metadata": {
    "collapsed": false
   },
   "outputs": [],
   "source": [
    "boot_gauss = cv2.GaussianBlur(boot_sobel, (9,9), 0)\n",
    "plt.imshow(boot_gauss, cmap='gray')"
   ]
  },
  {
   "cell_type": "code",
   "execution_count": null,
   "metadata": {
    "collapsed": false
   },
   "outputs": [],
   "source": [
    "print(boot_gauss.shape)\n",
    "print(boot_gauss[:10,:10])"
   ]
  },
  {
   "cell_type": "code",
   "execution_count": null,
   "metadata": {
    "collapsed": false,
    "scrolled": false
   },
   "outputs": [],
   "source": [
    "threshold = 40\n",
    "\n",
    "ret,boot_binary = cv2.threshold(boot_gauss,threshold,255,cv2.THRESH_BINARY)\n",
    "ret,boot_binary_inv = cv2.threshold(boot_gauss,threshold,255,cv2.THRESH_BINARY_INV)\n",
    "ret,boot_trunc = cv2.threshold(boot_gauss,threshold,255,cv2.THRESH_TRUNC)\n",
    "ret,boot_tozero = cv2.threshold(boot_gauss,threshold,255,cv2.THRESH_TOZERO)\n",
    "ret,boot_tozero_inv = cv2.threshold(boot_gauss,threshold,255,cv2.THRESH_TOZERO_INV)\n",
    "\n",
    "titles = ['Original Image','BINARY','BINARY_INV','TRUNC','TOZERO','TOZERO_INV']\n",
    "images = [boot_gauss, boot_binary, boot_binary_inv, boot_trunc, \n",
    "          boot_tozero, boot_tozero_inv]\n",
    "\n",
    "for i in range(6):\n",
    "    plt.subplot(2,3,i+1),plt.imshow(images[i],'gray')\n",
    "    plt.title(titles[i])\n",
    "    plt.xticks([]),plt.yticks([])\n",
    "\n",
    "plt.show()\n",
    "\n",
    "#plt.imshow(binary, cmap='gray')\n"
   ]
  },
  {
   "cell_type": "code",
   "execution_count": null,
   "metadata": {
    "collapsed": false,
    "scrolled": true
   },
   "outputs": [],
   "source": [
    "print('TOZERO')\n",
    "plt.imshow(boot_tozero, cmap='gray')"
   ]
  },
  {
   "cell_type": "code",
   "execution_count": null,
   "metadata": {
    "collapsed": false,
    "scrolled": false
   },
   "outputs": [],
   "source": [
    "boot_tozero_bgr = cv2.cvtColor(boot_tozero, cv2.COLOR_GRAY2BGR)\n",
    "plt.imshow(boot_tozero_bgr)"
   ]
  },
  {
   "cell_type": "code",
   "execution_count": null,
   "metadata": {
    "collapsed": false,
    "scrolled": false
   },
   "outputs": [],
   "source": [
    "mask = np.zeros((boot_tozero.shape[0]+2,boot_tozero.shape[1]+2),np.uint8)\n",
    "diff = (6,6,6)\n",
    "cv2.floodFill(image=boot_tozero_bgr,mask=mask,seedPoint=(0,0),\n",
    "             newVal=(255,0,255),loDiff=diff,upDiff=diff, flags=4)\n",
    "cv2.floodFill(image=boot_tozero_bgr,mask=mask,seedPoint=(boot_tozero.shape[1]-1,0),\n",
    "             newVal=(255,0,255),loDiff=diff,upDiff=diff, flags=4)\n",
    "cv2.floodFill(image=boot_tozero_bgr,mask=mask,seedPoint=(boot_tozero.shape[1]-1,boot_tozero.shape[0]-1),\n",
    "             newVal=(255,0,255),loDiff=diff,upDiff=diff, flags=4)\n",
    "\n",
    "cv2.floodFill(image=boot_tozero_bgr,mask=mask,seedPoint=(0,boot_tozero.shape[0]-1),\n",
    "             newVal=(255,0,255),loDiff=diff,upDiff=diff, flags=4)\n",
    "plt.imshow(boot_tozero_bgr)"
   ]
  },
  {
   "cell_type": "code",
   "execution_count": null,
   "metadata": {
    "collapsed": false,
    "scrolled": true
   },
   "outputs": [],
   "source": [
    "plt.imshow(mask, cmap='gray')"
   ]
  },
  {
   "cell_type": "code",
   "execution_count": null,
   "metadata": {
    "collapsed": true
   },
   "outputs": [],
   "source": [
    "mask = mask * 255"
   ]
  },
  {
   "cell_type": "code",
   "execution_count": null,
   "metadata": {
    "collapsed": true
   },
   "outputs": [],
   "source": [
    "mask_bgr = cv2.cvtColor(mask[1:-1,1:-1],cv2.COLOR_GRAY2BGR)"
   ]
  },
  {
   "cell_type": "code",
   "execution_count": null,
   "metadata": {
    "collapsed": false
   },
   "outputs": [],
   "source": [
    "boot_bgremoved = cv2.bitwise_or(mask_bgr,boot)\n",
    "plt.imshow(cv2.cvtColor(boot_bgremoved,cv2.COLOR_BGR2RGB))"
   ]
  },
  {
   "cell_type": "code",
   "execution_count": null,
   "metadata": {
    "collapsed": true
   },
   "outputs": [],
   "source": []
  }
 ],
 "metadata": {
  "kernelspec": {
   "display_name": "Python 2",
   "language": "python",
   "name": "python2"
  },
  "language_info": {
   "codemirror_mode": {
    "name": "ipython",
    "version": 2
   },
   "file_extension": ".py",
   "mimetype": "text/x-python",
   "name": "python",
   "nbconvert_exporter": "python",
   "pygments_lexer": "ipython2",
   "version": "2.7.11"
  }
 },
 "nbformat": 4,
 "nbformat_minor": 0
}
